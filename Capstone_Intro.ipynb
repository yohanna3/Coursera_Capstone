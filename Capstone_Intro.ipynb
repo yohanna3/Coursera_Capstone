{
 "cells": [
  {
   "cell_type": "markdown",
   "metadata": {},
   "source": [
    "# Capstone Project - Which Neighborhood for Agios Coffee?"
   ]
  },
  {
   "cell_type": "markdown",
   "metadata": {},
   "source": [
    "## Introduction"
   ]
  },
  {
   "cell_type": "markdown",
   "metadata": {},
   "source": [
    "Los Angeles is one of the major economic hubs for the United States. In addition to the entertainment industry, it is a center for aerospace and tech companies, especially since the advent of Silicon Beach. Furthermore, the Port of Long Beach harbors many the shipping barges from East Asia filled with goods for the nation. With so many job prospects, LA has attracted many people from all walks of life and transformed the city into a melting pot of foods and cultures. Because LA is a city of almost 4 million, not including the metropolitan area, it difficult to choose a good location for a coffee shop. There is a lot of competition and location is key to the success of a business. For this reason, Agios Coffee is interested in researching the right location for their first store. This project hopes to help them do this by utilizing data science and the Foursquare API. In this study, the whole of Los Angeles County is considered."
   ]
  }
 ],
 "metadata": {
  "kernelspec": {
   "display_name": "Python 3",
   "language": "python",
   "name": "python3"
  },
  "language_info": {
   "codemirror_mode": {
    "name": "ipython",
    "version": 3
   },
   "file_extension": ".py",
   "mimetype": "text/x-python",
   "name": "python",
   "nbconvert_exporter": "python",
   "pygments_lexer": "ipython3",
   "version": "3.7.4"
  }
 },
 "nbformat": 4,
 "nbformat_minor": 5
}
