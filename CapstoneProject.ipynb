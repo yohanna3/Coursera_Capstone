{
 "cells": [
  {
   "cell_type": "markdown",
   "id": "0b2a365f-7cad-4c88-a44e-40f0b48e10ab",
   "metadata": {},
   "source": [
    "# Capstone Project - Which Neighborhood for Agios Coffee?"
   ]
  },
  {
   "cell_type": "markdown",
   "id": "bdf51742-183f-4a5b-b76d-49e89ed49755",
   "metadata": {},
   "source": [
    "## Introduction"
   ]
  },
  {
   "cell_type": "markdown",
   "id": "66e8e8da-5baf-4ee9-9094-731d0546e6fb",
   "metadata": {},
   "source": [
    "Los Angeles is one of the major economic hubs for the United States. In addition to the entertainment industry, it is a center for aerospace and tech companies, especially since the advent of Silicon Beach. Furthermore, the Port of Long Beach harbors many the shipping barges from East Asia filled with goods for the nation. With so many job prospects, LA has attracted many people from all walks of life and transformed the city into a melting pot of foods and cultures. Because LA is a city of almost 4 million, not including the metropolitan area, it difficult to choose a good location for a coffee shop. There is a lot of competition and location is key to the success of a business. For this reason, Agios Coffee is interested in researching the right location for their first store. This project hopes to help them do this by utilizing data science and the Foursquare API. In this study, the whole of Los Angeles County is considered."
   ]
  },
  {
   "cell_type": "markdown",
   "id": "279059a2-0456-4e93-9ab6-55c2fb915107",
   "metadata": {},
   "source": [
    "## Data"
   ]
  },
  {
   "cell_type": "markdown",
   "id": "063f699e-eb58-4660-9f2b-56e7fbce5f1d",
   "metadata": {},
   "source": [
    "In order to determine the best location for Agios Coffee, the following key factors will be considered:\n",
    "* the number of coffee shops and cafes in a neighborhood\n",
    "* the number of and distance to activities (ex. beach, museums, theaters)\n",
    "\n",
    "The data sources are the following:\n",
    "* Foursquare API for coffee shop/cafe number and location, as well as activity number and location\n",
    "* Socrata Open Data API (specifically the USC LA data set) provided Neighborhood information"
   ]
  },
  {
   "cell_type": "code",
   "execution_count": null,
   "id": "8411cad2-4777-4812-aadf-78d99246b16e",
   "metadata": {},
   "outputs": [],
   "source": []
  }
 ],
 "metadata": {
  "kernelspec": {
   "display_name": "Python",
   "language": "python",
   "name": "conda-env-python-py"
  },
  "language_info": {
   "codemirror_mode": {
    "name": "ipython",
    "version": 3
   },
   "file_extension": ".py",
   "mimetype": "text/x-python",
   "name": "python",
   "nbconvert_exporter": "python",
   "pygments_lexer": "ipython3",
   "version": "3.6.13"
  }
 },
 "nbformat": 4,
 "nbformat_minor": 5
}
